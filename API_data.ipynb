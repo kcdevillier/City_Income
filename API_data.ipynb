{
 "cells": [
  {
   "cell_type": "markdown",
   "metadata": {},
   "source": [
    "### Perform API calls to create a database of business information for Spas, Restaurants and Hotels through a list of 1300 cities"
   ]
  },
  {
   "cell_type": "code",
   "execution_count": 2,
   "metadata": {
    "scrolled": true
   },
   "outputs": [],
   "source": [
    "from yelpapi import YelpAPI"
   ]
  },
  {
   "cell_type": "code",
   "execution_count": 3,
   "metadata": {
    "scrolled": true
   },
   "outputs": [],
   "source": [
    "import pandas as pd\n",
    "import requests\n",
    "import json\n",
    "from config import API_Key \n",
    "import time \n",
    "from config import bea_api"
   ]
  },
  {
   "cell_type": "code",
   "execution_count": 4,
   "metadata": {
    "scrolled": true
   },
   "outputs": [],
   "source": [
    "from pprint import pprint"
   ]
  },
  {
   "cell_type": "code",
   "execution_count": 5,
   "metadata": {
    "scrolled": true
   },
   "outputs": [],
   "source": [
    "yelp_api = YelpAPI(API_Key)"
   ]
  },
  {
   "cell_type": "code",
   "execution_count": 91,
   "metadata": {
    "scrolled": true
   },
   "outputs": [],
   "source": [
    "#request api data from bureau of economic analysis\n",
    "bea_url = 'https://apps.bea.gov/api/data'\n",
    "bea_final_url = f'{bea_url}?&UserID={bea_api}&method=GetData&Datasetname=Regional&TableName=CAINC1&LineCode=3&GeoFIPS=COUNTY&Year=2014&ResultFormat=JSON'\n",
    "bea_list_url=f'https://apps.bea.gov/api/data?&UserID={bea_api}&method=GETDATASETLIST&'\n",
    "bea_list = requests.get(bea_list_url).json()\n",
    "bea_data = requests.get(bea_final_url).json()"
   ]
  },
  {
   "cell_type": "code",
   "execution_count": 93,
   "metadata": {
    "scrolled": true
   },
   "outputs": [],
   "source": [
    "data = bea_data['BEAAPI']['Results']['Data']"
   ]
  },
  {
   "cell_type": "code",
   "execution_count": 94,
   "metadata": {
    "scrolled": true
   },
   "outputs": [],
   "source": [
    "#drop columns and save to csv\n",
    "PCI = pd.DataFrame(data)\n",
    "PCI.drop(['Code', 'GeoFips', 'CL_UNIT', 'UNIT_MULT', 'NoteRef'], axis = 1, inplace=True)\n",
    "PCI.to_csv(\"PCI.csv\")\n",
    "PCI = pd.read_csv('PCI.csv')"
   ]
  },
  {
   "cell_type": "code",
   "execution_count": 31,
   "metadata": {
    "scrolled": true
   },
   "outputs": [
    {
     "data": {
      "text/html": [
       "<div>\n",
       "<style scoped>\n",
       "    .dataframe tbody tr th:only-of-type {\n",
       "        vertical-align: middle;\n",
       "    }\n",
       "\n",
       "    .dataframe tbody tr th {\n",
       "        vertical-align: top;\n",
       "    }\n",
       "\n",
       "    .dataframe thead th {\n",
       "        text-align: right;\n",
       "    }\n",
       "</style>\n",
       "<table border=\"1\" class=\"dataframe\">\n",
       "  <thead>\n",
       "    <tr style=\"text-align: right;\">\n",
       "      <th></th>\n",
       "      <th>Unnamed: 0</th>\n",
       "      <th>GeoName</th>\n",
       "      <th>TimePeriod</th>\n",
       "      <th>DataValue</th>\n",
       "    </tr>\n",
       "  </thead>\n",
       "  <tbody>\n",
       "    <tr>\n",
       "      <td>0</td>\n",
       "      <td>0</td>\n",
       "      <td>Autauga, AL</td>\n",
       "      <td>2014</td>\n",
       "      <td>36,699</td>\n",
       "    </tr>\n",
       "    <tr>\n",
       "      <td>1</td>\n",
       "      <td>1</td>\n",
       "      <td>Baldwin, AL</td>\n",
       "      <td>2014</td>\n",
       "      <td>39,605</td>\n",
       "    </tr>\n",
       "    <tr>\n",
       "      <td>2</td>\n",
       "      <td>2</td>\n",
       "      <td>Barbour, AL</td>\n",
       "      <td>2014</td>\n",
       "      <td>29,920</td>\n",
       "    </tr>\n",
       "    <tr>\n",
       "      <td>3</td>\n",
       "      <td>3</td>\n",
       "      <td>Bibb, AL</td>\n",
       "      <td>2014</td>\n",
       "      <td>28,255</td>\n",
       "    </tr>\n",
       "    <tr>\n",
       "      <td>4</td>\n",
       "      <td>4</td>\n",
       "      <td>Blount, AL</td>\n",
       "      <td>2014</td>\n",
       "      <td>31,415</td>\n",
       "    </tr>\n",
       "    <tr>\n",
       "      <td>...</td>\n",
       "      <td>...</td>\n",
       "      <td>...</td>\n",
       "      <td>...</td>\n",
       "      <td>...</td>\n",
       "    </tr>\n",
       "    <tr>\n",
       "      <td>3133</td>\n",
       "      <td>3133</td>\n",
       "      <td>Sweetwater, WY</td>\n",
       "      <td>2014</td>\n",
       "      <td>49,061</td>\n",
       "    </tr>\n",
       "    <tr>\n",
       "      <td>3134</td>\n",
       "      <td>3134</td>\n",
       "      <td>Teton, WY</td>\n",
       "      <td>2014</td>\n",
       "      <td>200,044</td>\n",
       "    </tr>\n",
       "    <tr>\n",
       "      <td>3135</td>\n",
       "      <td>3135</td>\n",
       "      <td>Uinta, WY</td>\n",
       "      <td>2014</td>\n",
       "      <td>39,275</td>\n",
       "    </tr>\n",
       "    <tr>\n",
       "      <td>3136</td>\n",
       "      <td>3136</td>\n",
       "      <td>Washakie, WY</td>\n",
       "      <td>2014</td>\n",
       "      <td>44,349</td>\n",
       "    </tr>\n",
       "    <tr>\n",
       "      <td>3137</td>\n",
       "      <td>3137</td>\n",
       "      <td>Weston, WY</td>\n",
       "      <td>2014</td>\n",
       "      <td>46,965</td>\n",
       "    </tr>\n",
       "  </tbody>\n",
       "</table>\n",
       "<p>3138 rows × 4 columns</p>\n",
       "</div>"
      ],
      "text/plain": [
       "      Unnamed: 0         GeoName  TimePeriod DataValue\n",
       "0              0     Autauga, AL        2014    36,699\n",
       "1              1     Baldwin, AL        2014    39,605\n",
       "2              2     Barbour, AL        2014    29,920\n",
       "3              3        Bibb, AL        2014    28,255\n",
       "4              4      Blount, AL        2014    31,415\n",
       "...          ...             ...         ...       ...\n",
       "3133        3133  Sweetwater, WY        2014    49,061\n",
       "3134        3134       Teton, WY        2014   200,044\n",
       "3135        3135       Uinta, WY        2014    39,275\n",
       "3136        3136    Washakie, WY        2014    44,349\n",
       "3137        3137      Weston, WY        2014    46,965\n",
       "\n",
       "[3138 rows x 4 columns]"
      ]
     },
     "execution_count": 31,
     "metadata": {},
     "output_type": "execute_result"
    }
   ],
   "source": [
    "PCI"
   ]
  },
  {
   "cell_type": "code",
   "execution_count": 26,
   "metadata": {
    "scrolled": true
   },
   "outputs": [],
   "source": [
    "#read html data for population(old, newer used census)\n",
    "pop_html = pd.read_html('https://en.wikipedia.org/wiki/List_of_United_States_cities_by_population')"
   ]
  },
  {
   "cell_type": "code",
   "execution_count": 27,
   "metadata": {
    "scrolled": true
   },
   "outputs": [],
   "source": [
    "pop_db = pop_html[4]\n",
    "pop_db.drop(['Location', '2016 population density', '2016 population density.1', '2018rank'], axis = 1, inplace=True)\n",
    "pop_db = pop_db.rename(columns={'State[c]':'State'})"
   ]
  },
  {
   "cell_type": "code",
   "execution_count": 32,
   "metadata": {
    "scrolled": true
   },
   "outputs": [],
   "source": [
    "pop_db['City'] = pop_db['City'].apply(lambda x: x.partition('[')[0])"
   ]
  },
  {
   "cell_type": "code",
   "execution_count": 33,
   "metadata": {
    "scrolled": true
   },
   "outputs": [],
   "source": [
    "pop_db.to_csv('pop_db.csv')"
   ]
  },
  {
   "cell_type": "code",
   "execution_count": 37,
   "metadata": {
    "scrolled": true
   },
   "outputs": [],
   "source": [
    "#seperate city and state into 2 columns\n",
    "PCI['City'] = PCI['GeoName'].apply(lambda x: x.partition(',')[0])\n",
    "PCI['State'] = PCI['GeoName'].apply(lambda x: x.partition(',')[2])\n",
    "PCI.drop(['GeoName', 'TimePeriod'], axis=1, inplace=True)\n"
   ]
  },
  {
   "cell_type": "code",
   "execution_count": 40,
   "metadata": {
    "scrolled": true
   },
   "outputs": [],
   "source": [
    "#read in state abbr. database and merge with population database\n",
    "st_abbr = pd.read_csv('st_abbr.csv')\n",
    "st_abbr.drop(['Abbrev'], axis=1, inplace=True)\n",
    "population = st_abbr.merge(pop_db, on='State')\n",
    "population.drop(['State'], axis=1, inplace=True)\n",
    "population = population.rename(columns={'Code':'State'})\n",
    "final_db = population.merge(PCI, on='City')"
   ]
  },
  {
   "cell_type": "code",
   "execution_count": 48,
   "metadata": {
    "scrolled": true
   },
   "outputs": [],
   "source": [
    "#delete empty spaces before and after State abbr\n",
    "PCI['State'] = PCI['State'].apply(lambda x: x.strip())"
   ]
  },
  {
   "cell_type": "code",
   "execution_count": 50,
   "metadata": {
    "scrolled": true
   },
   "outputs": [],
   "source": [
    "final_db = population.merge(PCI, on=['City', 'State'])"
   ]
  },
  {
   "cell_type": "code",
   "execution_count": 53,
   "metadata": {
    "scrolled": true
   },
   "outputs": [],
   "source": [
    "#save PCI & population database to csv\n",
    "final_db.to_csv('merged_data.csv')"
   ]
  },
  {
   "cell_type": "code",
   "execution_count": 5,
   "metadata": {},
   "outputs": [],
   "source": [
    "final_db = pd.read_csv(\"merged_data.csv\")"
   ]
  },
  {
   "cell_type": "code",
   "execution_count": 6,
   "metadata": {},
   "outputs": [],
   "source": [
    "\n",
    "final_before = pd.read_csv('final_before_yelp.csv')"
   ]
  },
  {
   "cell_type": "code",
   "execution_count": 7,
   "metadata": {
    "scrolled": true
   },
   "outputs": [],
   "source": [
    "#loop through merged database to gather a list of City, St for API call\n",
    "yelp_list_st = []\n",
    "yelp_list_city = []\n",
    "for row in final_before.iterrows():\n",
    "    yelp_list_city.append(row[1][2])\n",
    "    yelp_list_st.append(row[1][1])\n"
   ]
  },
  {
   "cell_type": "code",
   "execution_count": 8,
   "metadata": {},
   "outputs": [
    {
     "data": {
      "text/plain": [
       "1223"
      ]
     },
     "execution_count": 8,
     "metadata": {},
     "output_type": "execute_result"
    }
   ],
   "source": [
    "len(yelp_list_city)"
   ]
  },
  {
   "cell_type": "code",
   "execution_count": 10,
   "metadata": {
    "scrolled": true
   },
   "outputs": [],
   "source": [
    "#loop through results and create dataframe for desired info\n",
    "\n",
    "def getresults(location, terms):\n",
    "    \n",
    "    time.sleep(1.5) #yelp ends connection if request are to quick\n",
    "    name = []\n",
    "    cat = []\n",
    "    price = []\n",
    "    rating = []\n",
    "    review = []\n",
    "    state = []\n",
    "    city = []\n",
    "    bus_Type = []\n",
    "    total_list = []\n",
    "    \n",
    "    try: \n",
    "        results = yelp_api.search_query(term=terms, location=location)\n",
    "        time.sleep(1)\n",
    "    except: \n",
    "        print(f'no listing for {location} and {terms}')\n",
    "        dict1 = {}\n",
    "        return dict1\n",
    "     \n",
    "    #loop through creating offsets of 50 for each request(yelp only allows 50 results per request)    \n",
    "    offset = 0\n",
    "    total = results['total']\n",
    "    \n",
    "    #calculate how many request with offsets to make\n",
    "    if total > 500:\n",
    "        x = 10\n",
    "    elif total > 0 and total < 50: \n",
    "        x = 1\n",
    "    else:\n",
    "        x = round(total/50) #calculate how many offset calls to make\n",
    "    \n",
    "    for i in range(0,x):\n",
    "        if i == 0:\n",
    "            offset = 0\n",
    "        else: \n",
    "            offset = offset + 50 #increase each offset by 50 for each iteration\n",
    "        \n",
    "        try:\n",
    "            results = yelp_api.search_query(term=terms, location=location, offset=offset) \n",
    "            time.sleep(1)\n",
    "            \n",
    "            #get results and append to list\n",
    "            for rest in results['businesses']:\n",
    "                name.append(rest['name'])\n",
    "                cat.append(rest['categories'][0]['title'])\n",
    "                state.append(location.split(',')[1])\n",
    "                city.append(location.split(',')[0])\n",
    "                bus_Type.append(terms)\n",
    "                total_list.append(total)\n",
    "\n",
    "                try:\n",
    "                    price.append(f\"{rest['price']}\")\n",
    "                except: \n",
    "                    price.append('0')\n",
    "                try:\n",
    "                    rating.append(rest['rating'])\n",
    "                except: \n",
    "                    rating.append('0')  \n",
    "                try:                \n",
    "                    review.append(rest['review_count'])\n",
    "                except:\n",
    "                    review.append('0')\n",
    "            \n",
    "            #create dictionary from list and update each request\n",
    "            dict1 = {'State': state,\n",
    "                'City': city,\n",
    "                'name': name,\n",
    "                'cat': cat,\n",
    "                'price': price,\n",
    "                'rating': rating, \n",
    "                'review': review,\n",
    "                'BusinessType':bus_Type,\n",
    "                'Total': total_list}\n",
    "          \n",
    "        #if request returns an error, try returning the dictionary and moving on, if returning dictionary\n",
    "        #gives an error, set dictionary to 0 and return\n",
    "        except: \n",
    "            print(f'error reached at {location} and {terms} offset {offset}')\n",
    "            try: \n",
    "                dict1\n",
    "            except:\n",
    "                dict1 = {}\n",
    "            finally:\n",
    "                return dict1\n",
    "    try:                             \n",
    "        return dict1                        \n",
    "    except UnboundLocalError:\n",
    "        dict1={}\n",
    "        return dict1"
   ]
  },
  {
   "cell_type": "code",
   "execution_count": 11,
   "metadata": {
    "scrolled": true
   },
   "outputs": [
    {
     "name": "stdout",
     "output_type": "stream",
     "text": [
      "error reached at charles, md and hotel offset 450\n",
      "error reached at clare, mi and hotel offset 0\n",
      "error reached at bay, mi and hotel offset 100\n",
      "error reached at isabella, mi and hotel offset 0\n",
      "error reached at leelanau, mi and hotel offset 100\n",
      "no listing for madison, oh and hotel\n",
      "error reached at snyder, pa and hotel offset 350\n",
      "error reached at monroe, pa and hotel offset 400\n",
      "error reached at pike, pa and hotel offset 300\n",
      "error reached at lycoming, pa and hotel offset 150\n",
      "error reached at kershaw, sc and hotel offset 300\n",
      "error reached at alexandria, va and hotel offset 200\n",
      "error reached at clay, wv and hotel offset 50\n"
     ]
    }
   ],
   "source": [
    "#this loop calls the above query function and creates a list of dictionaries\n",
    "resultx = []\n",
    "\n",
    "for i in range(0, len(yelp_list_city)):\n",
    "    location = f'{yelp_list_city[i].lower()}, {yelp_list_st[i].lower()}'\n",
    "    result = getresults(location, 'hotel')\n",
    "    resultx.append(result)\n",
    "        \n",
    "        "
   ]
  },
  {
   "cell_type": "code",
   "execution_count": 12,
   "metadata": {},
   "outputs": [
    {
     "name": "stdout",
     "output_type": "stream",
     "text": [
      "error at 426\n",
      "error at 466\n",
      "error at 475\n",
      "error at 906\n",
      "error at 919\n",
      "error at 922\n",
      "error at 948\n",
      "error at 973\n",
      "error at 1123\n",
      "error at 1157\n"
     ]
    }
   ],
   "source": [
    "#create database from list of dictionaries\n",
    "b = pd.DataFrame(resultx[0])\n",
    "for i in range(1, len(resultx)):\n",
    "    try:\n",
    "        c = pd.DataFrame(resultx[i])\n",
    "        b = b.append(c)\n",
    "    except ValueError:\n",
    "        print(f'error at {i}')"
   ]
  },
  {
   "cell_type": "code",
   "execution_count": 14,
   "metadata": {
    "scrolled": true
   },
   "outputs": [],
   "source": [
    "#save the database to csv\n",
    "b.to_csv('finalhoteldata.csv')"
   ]
  }
 ],
 "metadata": {
  "kernelspec": {
   "display_name": "Python 3",
   "language": "python",
   "name": "python3"
  },
  "language_info": {
   "codemirror_mode": {
    "name": "ipython",
    "version": 3
   },
   "file_extension": ".py",
   "mimetype": "text/x-python",
   "name": "python",
   "nbconvert_exporter": "python",
   "pygments_lexer": "ipython3",
   "version": "3.6.9"
  }
 },
 "nbformat": 4,
 "nbformat_minor": 2
}
