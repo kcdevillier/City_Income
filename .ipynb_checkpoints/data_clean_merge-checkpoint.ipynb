{
 "cells": [
  {
   "cell_type": "markdown",
   "metadata": {},
   "source": [
    "### import yelp databases, clean, organize and merge into final databases."
   ]
  },
  {
   "cell_type": "code",
   "execution_count": 49,
   "metadata": {},
   "outputs": [],
   "source": [
    "import pandas as pd"
   ]
  },
  {
   "cell_type": "code",
   "execution_count": 51,
   "metadata": {},
   "outputs": [],
   "source": [
    "#import data csv\n",
    "spa_data = pd.read_csv('Resources/finalspadata.csv')\n",
    "rest_data = pd.read_csv('Resources/finaldata.csv')  \n",
    "hotel_data = pd.read_csv('Resources/finalhoteldata.csv')"
   ]
  },
  {
   "cell_type": "code",
   "execution_count": 71,
   "metadata": {},
   "outputs": [],
   "source": [
    "#convert price to numeric value\n",
    "def cleandata(data):\n",
    "    data = data.drop(columns={'Unnamed: 0', 'BusinessType'})\n",
    "    data['price']=data['price'].apply(lambda x: 1 if (x == \"€\") else x)\n",
    "    data['price']=data['price'].apply(lambda x: 2 if (x == \"€€\") else x)\n",
    "    data['price']=data['price'].apply(lambda x: 3 if (x == \"€€€\") else x)\n",
    "    data['price']=data['price'].apply(lambda x: 2 if (x == \"££\") else x)\n",
    "    data['price']=data['price'].apply(lambda x: 1 if (x == \"$\") else x)\n",
    "    data['price']=data['price'].apply(lambda x: 2 if (x == \"$$\") else x)\n",
    "    data['price']=data['price'].apply(lambda x: 3 if (x == \"$$$\") else x)\n",
    "    data['price']=data['price'].apply(lambda x: 4 if (x == \"$$$$\") else x)\n",
    "    data['price'] = data['price'].astype('int')\n",
    "    data['City'] = data['City'].apply(lambda x: x.strip())\n",
    "    data['State'] = data['State'].apply(lambda x: x.strip())\n",
    "    \n",
    "    #drop 0 values from database\n",
    "    data = data.loc[data['price'] != 0]\n",
    "    \n",
    "    return data\n"
   ]
  },
  {
   "cell_type": "code",
   "execution_count": 52,
   "metadata": {},
   "outputs": [],
   "source": [
    "#call function to clean data\n",
    "spa_data = cleandata(spa_data)\n",
    "rest_data = cleandata(rest_data)\n",
    "hotel_data = cleandata(hotel_data)"
   ]
  },
  {
   "cell_type": "code",
   "execution_count": 53,
   "metadata": {},
   "outputs": [
    {
     "data": {
      "text/html": [
       "<div>\n",
       "<style scoped>\n",
       "    .dataframe tbody tr th:only-of-type {\n",
       "        vertical-align: middle;\n",
       "    }\n",
       "\n",
       "    .dataframe tbody tr th {\n",
       "        vertical-align: top;\n",
       "    }\n",
       "\n",
       "    .dataframe thead th {\n",
       "        text-align: right;\n",
       "    }\n",
       "</style>\n",
       "<table border=\"1\" class=\"dataframe\">\n",
       "  <thead>\n",
       "    <tr style=\"text-align: right;\">\n",
       "      <th></th>\n",
       "      <th>State</th>\n",
       "      <th>City</th>\n",
       "      <th>name</th>\n",
       "      <th>cat</th>\n",
       "      <th>price</th>\n",
       "      <th>rating</th>\n",
       "      <th>review</th>\n",
       "      <th>Total</th>\n",
       "    </tr>\n",
       "  </thead>\n",
       "  <tbody>\n",
       "    <tr>\n",
       "      <td>1</td>\n",
       "      <td>al</td>\n",
       "      <td>butler</td>\n",
       "      <td>Don Rafa</td>\n",
       "      <td>Mexican</td>\n",
       "      <td>2</td>\n",
       "      <td>5.0</td>\n",
       "      <td>4</td>\n",
       "      <td>6</td>\n",
       "    </tr>\n",
       "    <tr>\n",
       "      <td>5</td>\n",
       "      <td>al</td>\n",
       "      <td>butler</td>\n",
       "      <td>McDonald's</td>\n",
       "      <td>Coffee &amp; Tea</td>\n",
       "      <td>1</td>\n",
       "      <td>1.0</td>\n",
       "      <td>3</td>\n",
       "      <td>6</td>\n",
       "    </tr>\n",
       "    <tr>\n",
       "      <td>8</td>\n",
       "      <td>al</td>\n",
       "      <td>cherokee</td>\n",
       "      <td>Point Of View Restaurant And Oyster Bar</td>\n",
       "      <td>Seafood</td>\n",
       "      <td>2</td>\n",
       "      <td>4.0</td>\n",
       "      <td>2</td>\n",
       "      <td>8</td>\n",
       "    </tr>\n",
       "    <tr>\n",
       "      <td>9</td>\n",
       "      <td>al</td>\n",
       "      <td>cherokee</td>\n",
       "      <td>Rattlesnake Saloon</td>\n",
       "      <td>Bars</td>\n",
       "      <td>1</td>\n",
       "      <td>3.5</td>\n",
       "      <td>50</td>\n",
       "      <td>8</td>\n",
       "    </tr>\n",
       "    <tr>\n",
       "      <td>10</td>\n",
       "      <td>al</td>\n",
       "      <td>cherokee</td>\n",
       "      <td>The Southern Farm Table Restaurant and Bakery</td>\n",
       "      <td>American (Traditional)</td>\n",
       "      <td>2</td>\n",
       "      <td>4.5</td>\n",
       "      <td>14</td>\n",
       "      <td>8</td>\n",
       "    </tr>\n",
       "    <tr>\n",
       "      <td>...</td>\n",
       "      <td>...</td>\n",
       "      <td>...</td>\n",
       "      <td>...</td>\n",
       "      <td>...</td>\n",
       "      <td>...</td>\n",
       "      <td>...</td>\n",
       "      <td>...</td>\n",
       "      <td>...</td>\n",
       "    </tr>\n",
       "    <tr>\n",
       "      <td>65751</td>\n",
       "      <td>id</td>\n",
       "      <td>boise</td>\n",
       "      <td>Jimmy John's</td>\n",
       "      <td>Sandwiches</td>\n",
       "      <td>1</td>\n",
       "      <td>3.0</td>\n",
       "      <td>21</td>\n",
       "      <td>931</td>\n",
       "    </tr>\n",
       "    <tr>\n",
       "      <td>65752</td>\n",
       "      <td>id</td>\n",
       "      <td>boise</td>\n",
       "      <td>Wingstop</td>\n",
       "      <td>Chicken Wings</td>\n",
       "      <td>1</td>\n",
       "      <td>3.0</td>\n",
       "      <td>60</td>\n",
       "      <td>931</td>\n",
       "    </tr>\n",
       "    <tr>\n",
       "      <td>65753</td>\n",
       "      <td>id</td>\n",
       "      <td>boise</td>\n",
       "      <td>Fish Poké Bar</td>\n",
       "      <td>Poke</td>\n",
       "      <td>2</td>\n",
       "      <td>4.0</td>\n",
       "      <td>33</td>\n",
       "      <td>931</td>\n",
       "    </tr>\n",
       "    <tr>\n",
       "      <td>65754</td>\n",
       "      <td>id</td>\n",
       "      <td>boise</td>\n",
       "      <td>Louie's Pizza and Italian Restaurant</td>\n",
       "      <td>Pizza</td>\n",
       "      <td>2</td>\n",
       "      <td>3.5</td>\n",
       "      <td>114</td>\n",
       "      <td>931</td>\n",
       "    </tr>\n",
       "    <tr>\n",
       "      <td>65755</td>\n",
       "      <td>id</td>\n",
       "      <td>boise</td>\n",
       "      <td>Port of Subs</td>\n",
       "      <td>Sandwiches</td>\n",
       "      <td>1</td>\n",
       "      <td>2.5</td>\n",
       "      <td>18</td>\n",
       "      <td>931</td>\n",
       "    </tr>\n",
       "  </tbody>\n",
       "</table>\n",
       "<p>50724 rows × 8 columns</p>\n",
       "</div>"
      ],
      "text/plain": [
       "      State      City                                           name  \\\n",
       "1        al    butler                                       Don Rafa   \n",
       "5        al    butler                                     McDonald's   \n",
       "8        al  cherokee        Point Of View Restaurant And Oyster Bar   \n",
       "9        al  cherokee                             Rattlesnake Saloon   \n",
       "10       al  cherokee  The Southern Farm Table Restaurant and Bakery   \n",
       "...     ...       ...                                            ...   \n",
       "65751    id     boise                                   Jimmy John's   \n",
       "65752    id     boise                                       Wingstop   \n",
       "65753    id     boise                                  Fish Poké Bar   \n",
       "65754    id     boise           Louie's Pizza and Italian Restaurant   \n",
       "65755    id     boise                                   Port of Subs   \n",
       "\n",
       "                          cat  price  rating  review  Total  \n",
       "1                     Mexican      2     5.0       4      6  \n",
       "5                Coffee & Tea      1     1.0       3      6  \n",
       "8                     Seafood      2     4.0       2      8  \n",
       "9                        Bars      1     3.5      50      8  \n",
       "10     American (Traditional)      2     4.5      14      8  \n",
       "...                       ...    ...     ...     ...    ...  \n",
       "65751              Sandwiches      1     3.0      21    931  \n",
       "65752           Chicken Wings      1     3.0      60    931  \n",
       "65753                    Poke      2     4.0      33    931  \n",
       "65754                   Pizza      2     3.5     114    931  \n",
       "65755              Sandwiches      1     2.5      18    931  \n",
       "\n",
       "[50724 rows x 8 columns]"
      ]
     },
     "execution_count": 53,
     "metadata": {},
     "output_type": "execute_result"
    }
   ],
   "source": [
    "rest_data"
   ]
  },
  {
   "cell_type": "code",
   "execution_count": 74,
   "metadata": {},
   "outputs": [],
   "source": [
    "new_york = rest_data.loc[rest_data['City'] =='new york']"
   ]
  },
  {
   "cell_type": "code",
   "execution_count": 75,
   "metadata": {},
   "outputs": [],
   "source": [
    "#make a seperate database of expensive and cheap for business type for seperate analysis\n",
    "exp_spa_data = spa_data.loc[spa_data['price'] >= 3]\n",
    "cheap_spa_data = spa_data.loc[spa_data['price'] < 3]\n",
    "exp_rest_data = rest_data.loc[rest_data['price'] >= 3]\n",
    "cheap_rest_data = rest_data.loc[rest_data['price'] < 3]\n",
    "exp_hotel_data = hotel_data.loc[hotel_data['price'] >= 3]\n",
    "cheap_hotel_data = hotel_data.loc[hotel_data['price'] < 3] "
   ]
  },
  {
   "cell_type": "code",
   "execution_count": 76,
   "metadata": {},
   "outputs": [],
   "source": [
    "#read in PCI and pop data, clean and sort\n",
    "other_db = pd.read_csv(\"final_before_yelp.csv\")\n",
    "other_db = other_db.drop(columns={'Unnamed: 0'})\n",
    "other_db = other_db.rename(columns={'DataValue':'PCI'})\n",
    "other_db = other_db.sort_values('State')\n",
    "other_db.reset_index(drop=True, inplace=True)\n",
    "other_db['City'] = other_db['City'].apply(lambda x: x.lower())\n",
    "other_db['State'] = other_db['State'].apply(lambda x: x.lower())\n",
    "other_db['PCI'] = other_db['PCI'].apply(lambda x: x.replace(',', ''))\n",
    "other_db['PCI'] = other_db['PCI'].astype('int')\n"
   ]
  },
  {
   "cell_type": "code",
   "execution_count": 77,
   "metadata": {},
   "outputs": [],
   "source": [
    "new_york_merge = other_db.merge(new_york, on=['State', 'City'])"
   ]
  },
  {
   "cell_type": "code",
   "execution_count": 78,
   "metadata": {},
   "outputs": [],
   "source": [
    "new_york_merge.drop(['State', 'City', 'name', 'Total'], axis=1, inplace=True)"
   ]
  },
  {
   "cell_type": "code",
   "execution_count": 79,
   "metadata": {},
   "outputs": [],
   "source": [
    "new_york_merge.to_csv('new_york_merge.csv', index=False)"
   ]
  },
  {
   "cell_type": "code",
   "execution_count": 80,
   "metadata": {},
   "outputs": [],
   "source": [
    "#function that creates a count of each price point and merges all databases\n",
    "\n",
    "def buscount(data):\n",
    "    \n",
    "    data_means = data.groupby(['State', 'City']).mean()\n",
    "    data1['Price perc'] = data1['P total'] / data1['Total']    \n",
    "    data1.reset_index(inplace=True)\n",
    "    data1.drop(['Total', 'P total'], axis=1, inplace=True)\n",
    "    \n",
    "    final = other_db.merge(data1, how='inner', on=['State', 'City'])\n",
    "    return final"
   ]
  },
  {
   "cell_type": "code",
   "execution_count": 44,
   "metadata": {},
   "outputs": [],
   "source": [
    "#function that process for full data\n",
    "def fullcount(data):\n",
    "    \n",
    "    data_means = data.groupby(['State', 'City']).mean()\n",
    "    final = other_db.merge(data_means, how='inner', on=['State', 'City'])\n",
    "    final['PP'] = final['Total'] / final['Pop']    \n",
    "\n",
    "    return final"
   ]
  },
  {
   "cell_type": "code",
   "execution_count": 82,
   "metadata": {},
   "outputs": [],
   "source": [
    "#run databases through buscount() in order to aggregate db\n",
    "exp_spa_data = buscount(exp_spa_data)\n",
    "cheap_spa_data = buscount(cheap_spa_data)\n",
    "exp_rest_data = buscount(exp_rest_data)\n",
    "cheap_rest_data = buscount(cheap_rest_data)\n",
    "exp_hotel_data = buscount(exp_hotel_data)\n",
    "cheap_hotel_data= buscount(cheap_hotel_data)\n",
    "full_hotel_data = fullcount(hotel_data)\n",
    "full_rest_data = fullcount(rest_data)"
   ]
  },
  {
   "cell_type": "code",
   "execution_count": 84,
   "metadata": {},
   "outputs": [],
   "source": [
    "full_hotel = full_hotel_data.merge(full_rest_data, on=['State', 'City'])"
   ]
  },
  {
   "cell_type": "code",
   "execution_count": 45,
   "metadata": {},
   "outputs": [],
   "source": [
    "full_rest_data = fullcount(rest_data)"
   ]
  },
  {
   "cell_type": "code",
   "execution_count": 47,
   "metadata": {},
   "outputs": [],
   "source": [
    "full_rest_data.to_csv(\"Resources/full_rest_data_new.csv\")\n"
   ]
  },
  {
   "cell_type": "code",
   "execution_count": 29,
   "metadata": {},
   "outputs": [],
   "source": [
    "test_count = rest_data.groupby(['State', 'City']).count()['name']"
   ]
  },
  {
   "cell_type": "code",
   "execution_count": 30,
   "metadata": {},
   "outputs": [],
   "source": [
    "t = pd.DataFrame(test_count)"
   ]
  },
  {
   "cell_type": "code",
   "execution_count": 86,
   "metadata": {},
   "outputs": [],
   "source": [
    "#save databases to csv\n",
    "exp_spa_data.to_csv('exp_spa_data.csv', index=False)\n",
    "cheap_spa_data.to_csv('cheap_spa_data.csv', index=False)\n",
    "exp_rest_data.to_csv('exp_rest_data.csv', index=False)\n",
    "cheap_rest_data.to_csv('cheap_rest_data.csv', index=False)\n",
    "exp_hotel_data.to_csv('exp_hotel_data.csv', index=False) \n",
    "cheap_hotel_data.to_csv('cheap_hotel_data.csv', index=False)\n",
    "full_hotel.to_csv('full_hotel_data.csv', index=False)"
   ]
  },
  {
   "cell_type": "code",
   "execution_count": 36,
   "metadata": {},
   "outputs": [],
   "source": [
    "#seperate database into high Population and low population database\n",
    "high_pop = final_db[(final_db['Pop'] > 60000)]\n",
    "low_pop = final_db[(final_db['Pop'] < 60000)]\n"
   ]
  },
  {
   "cell_type": "code",
   "execution_count": 61,
   "metadata": {},
   "outputs": [],
   "source": [
    "high_pop = high_pop.merge(data1_means, how='inner', on=['State', 'City'])\n",
    "low_pop = low_pop.merge(data1_means, how='inner', on=['State', 'City'])"
   ]
  },
  {
   "cell_type": "code",
   "execution_count": 64,
   "metadata": {},
   "outputs": [],
   "source": [
    "hp_f = final_db.merge(hp_final, how='inner', on=['State', 'City'])"
   ]
  },
  {
   "cell_type": "code",
   "execution_count": 252,
   "metadata": {},
   "outputs": [],
   "source": [
    "final_final = final_db.merge(data1_means, how='inner', on=['State', 'City'])"
   ]
  },
  {
   "cell_type": "code",
   "execution_count": 62,
   "metadata": {},
   "outputs": [],
   "source": [
    "high_pop.to_csv('high_pop.csv')\n",
    "low_pop.to_csv('low_pop.csv')"
   ]
  }
 ],
 "metadata": {
  "kernelspec": {
   "display_name": "Python 3",
   "language": "python",
   "name": "python3"
  },
  "language_info": {
   "codemirror_mode": {
    "name": "ipython",
    "version": 3
   },
   "file_extension": ".py",
   "mimetype": "text/x-python",
   "name": "python",
   "nbconvert_exporter": "python",
   "pygments_lexer": "ipython3",
   "version": "3.6.9"
  }
 },
 "nbformat": 4,
 "nbformat_minor": 2
}
