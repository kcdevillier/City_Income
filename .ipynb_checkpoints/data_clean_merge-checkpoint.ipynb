{
 "cells": [
  {
   "cell_type": "code",
   "execution_count": 18,
   "metadata": {},
   "outputs": [],
   "source": [
    "import pandas as pd"
   ]
  },
  {
   "cell_type": "code",
   "execution_count": 19,
   "metadata": {},
   "outputs": [],
   "source": [
    "#import data csv\n",
    "spa_data = pd.read_csv('finalspadata.csv')\n",
    "rest_data = pd.read_csv('finaldata.csv')  \n",
    "hotel_data = pd.read_csv('finalhoteldata.csv')"
   ]
  },
  {
   "cell_type": "code",
   "execution_count": 20,
   "metadata": {},
   "outputs": [],
   "source": [
    "#convert price to numeric value\n",
    "def cleandata(data):\n",
    "    data = data.drop(columns={'Unnamed: 0', 'BusinessType'})\n",
    "    data['price']=data['price'].apply(lambda x: 1 if (x == \"€\") else x)\n",
    "    data['price']=data['price'].apply(lambda x: 2 if (x == \"€€\") else x)\n",
    "    data['price']=data['price'].apply(lambda x: 3 if (x == \"€€€\") else x)\n",
    "    data['price']=data['price'].apply(lambda x: 2 if (x == \"££\") else x)\n",
    "    data['price']=data['price'].apply(lambda x: 1 if (x == \"$\") else x)\n",
    "    data['price']=data['price'].apply(lambda x: 2 if (x == \"$$\") else x)\n",
    "    data['price']=data['price'].apply(lambda x: 3 if (x == \"$$$\") else x)\n",
    "    data['price']=data['price'].apply(lambda x: 4 if (x == \"$$$$\") else x)\n",
    "    data['price'] = data['price'].astype('int')\n",
    "    data['City'] = data['City'].apply(lambda x: x.strip())\n",
    "    data['State'] = data['State'].apply(lambda x: x.strip())\n",
    "    \n",
    "    #drop 0 values from database\n",
    "    data = data.loc[data['price'] != 0]\n",
    "    \n",
    "    return data\n"
   ]
  },
  {
   "cell_type": "code",
   "execution_count": 21,
   "metadata": {},
   "outputs": [],
   "source": [
    "#call function to clean data\n",
    "spa_data = cleandata(spa_data)\n",
    "rest_data = cleandata(rest_data)\n",
    "hotel_data = cleandata(hotel_data)"
   ]
  },
  {
   "cell_type": "code",
   "execution_count": 22,
   "metadata": {},
   "outputs": [],
   "source": [
    "new_york = rest_data.loc[rest_data['City'] =='new york']"
   ]
  },
  {
   "cell_type": "code",
   "execution_count": 243,
   "metadata": {},
   "outputs": [],
   "source": [
    "#make a seperate database of expensive and cheap for business type for seperate analysis\n",
    "exp_spa_data = spa_data.loc[spa_data['price'] >= 3]\n",
    "cheap_spa_data = spa_data.loc[spa_data['price'] < 3]\n",
    "exp_rest_data = rest_data.loc[rest_data['price'] >= 3]\n",
    "cheap_rest_data = rest_data.loc[rest_data['price'] < 3]\n",
    "exp_hotel_data = hotel_data.loc[hotel_data['price'] >= 3]\n",
    "cheap_hotel_data = hotel_data.loc[hotel_data['price'] < 3] "
   ]
  },
  {
   "cell_type": "code",
   "execution_count": 23,
   "metadata": {},
   "outputs": [],
   "source": [
    "#read in PCI and pop data, clean and sort\n",
    "other_db = pd.read_csv(\"final_before_yelp.csv\")\n",
    "other_db = other_db.drop(columns={'Unnamed: 0'})\n",
    "other_db = other_db.rename(columns={'DataValue':'PCI'})\n",
    "other_db = other_db.sort_values('State')\n",
    "other_db.reset_index(drop=True, inplace=True)\n",
    "other_db['City'] = other_db['City'].apply(lambda x: x.lower())\n",
    "other_db['State'] = other_db['State'].apply(lambda x: x.lower())\n",
    "other_db['PCI'] = other_db['PCI'].apply(lambda x: x.replace(',', ''))\n",
    "other_db['PCI'] = other_db['PCI'].astype('int')\n"
   ]
  },
  {
   "cell_type": "code",
   "execution_count": 27,
   "metadata": {},
   "outputs": [],
   "source": [
    "new_york_merge = other_db.merge(new_york, on=['State', 'City'])"
   ]
  },
  {
   "cell_type": "code",
   "execution_count": 30,
   "metadata": {},
   "outputs": [],
   "source": [
    "new_york_merge.drop(['State', 'City', 'name', 'Total'], axis=1, inplace=True)"
   ]
  },
  {
   "cell_type": "code",
   "execution_count": 31,
   "metadata": {},
   "outputs": [],
   "source": [
    "new_york_merge.to_csv('new_york_merge.csv', index=False)"
   ]
  },
  {
   "cell_type": "code",
   "execution_count": null,
   "metadata": {},
   "outputs": [],
   "source": [
    "#function that creates a count of each price point and merges all databases\n",
    "\n",
    "def buscount(data):\n",
    "    \n",
    "    data_means = data.groupby(['State', 'City']).mean()\n",
    "    count = data.groupby(['State', 'City']).count()['name']\n",
    "    data_count = pd.DataFrame(count)\n",
    "    data_count.rename(columns={'name':'P total'}, inplace=True)\n",
    "    data1 = data_count.merge(data_means, on=['State', 'City'], how='inner')\n",
    "    data1['Price perc'] = data1['P total'] / data1['Total']    \n",
    "    data1.reset_index(inplace=True)\n",
    "    data1.drop(['Total', 'P total'], axis=1, inplace=True)\n",
    "    \n",
    "    final = other_db.merge(data1, how='inner', on=['State', 'City'])\n",
    "    return final"
   ]
  },
  {
   "cell_type": "code",
   "execution_count": null,
   "metadata": {},
   "outputs": [],
   "source": [
    "exp_spa_data = buscount(exp_spa_data)\n",
    "cheap_spa_data = buscount(cheap_spa_data)\n",
    "exp_rest_data = buscount(exp_rest_data)\n",
    "cheap_rest_data = buscount(cheap_rest_data)\n",
    "exp_hotel_data = buscount(exp_hotel_data)\n",
    "cheap_hotel_data= buscount(cheap_hotel_data)\n"
   ]
  },
  {
   "cell_type": "code",
   "execution_count": 251,
   "metadata": {},
   "outputs": [],
   "source": [
    "exp_spa_data.to_csv('exp_spa_data.csv', index=False)\n",
    "cheap_spa_data.to_csv('cheap_spa_data.csv', index=False)\n",
    "exp_rest_data.to_csv('exp_rest_data.csv', index=False)\n",
    "cheap_rest_data.to_csv('cheap_rest_data.csv', index=False)\n",
    "exp_hotel_data.to_csv('exp_hotel_data.csv', index=False) \n",
    "cheap_hotel_data.to_csv('cheap_hotel_data.csv', index=False)"
   ]
  },
  {
   "cell_type": "code",
   "execution_count": 36,
   "metadata": {},
   "outputs": [],
   "source": [
    "high_pop = final_db[(final_db['Pop'] > 60000)]\n",
    "low_pop = final_db[(final_db['Pop'] < 60000)]\n"
   ]
  },
  {
   "cell_type": "code",
   "execution_count": 61,
   "metadata": {},
   "outputs": [],
   "source": [
    "high_pop = high_pop.merge(data1_means, how='inner', on=['State', 'City'])\n",
    "low_pop = low_pop.merge(data1_means, how='inner', on=['State', 'City'])"
   ]
  },
  {
   "cell_type": "code",
   "execution_count": 64,
   "metadata": {},
   "outputs": [],
   "source": [
    "hp_f = final_db.merge(hp_final, how='inner', on=['State', 'City'])"
   ]
  },
  {
   "cell_type": "code",
   "execution_count": 252,
   "metadata": {},
   "outputs": [],
   "source": [
    "final_final = final_db.merge(data1_means, how='inner', on=['State', 'City'])"
   ]
  },
  {
   "cell_type": "code",
   "execution_count": null,
   "metadata": {},
   "outputs": [],
   "source": []
  },
  {
   "cell_type": "code",
   "execution_count": 62,
   "metadata": {},
   "outputs": [],
   "source": [
    "high_pop.to_csv('high_pop.csv')\n",
    "low_pop.to_csv('low_pop.csv')"
   ]
  },
  {
   "cell_type": "code",
   "execution_count": null,
   "metadata": {},
   "outputs": [],
   "source": []
  }
 ],
 "metadata": {
  "kernelspec": {
   "display_name": "Python 3",
   "language": "python",
   "name": "python3"
  },
  "language_info": {
   "codemirror_mode": {
    "name": "ipython",
    "version": 3
   },
   "file_extension": ".py",
   "mimetype": "text/x-python",
   "name": "python",
   "nbconvert_exporter": "python",
   "pygments_lexer": "ipython3",
   "version": "3.6.9"
  }
 },
 "nbformat": 4,
 "nbformat_minor": 2
}
